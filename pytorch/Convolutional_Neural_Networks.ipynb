{
  "cells": [
    {
      "cell_type": "markdown",
      "metadata": {
        "id": "view-in-github",
        "colab_type": "text"
      },
      "source": [
        "<a href=\"https://colab.research.google.com/github/vivekbiragoni/Deep_Learning/blob/main/pytorch/Convolutional_Neural_Networks.ipynb\" target=\"_parent\"><img src=\"https://colab.research.google.com/assets/colab-badge.svg\" alt=\"Open In Colab\"/></a>"
      ]
    },
    {
      "cell_type": "code",
      "source": [
        "!pip install datasets"
      ],
      "metadata": {
        "colab": {
          "base_uri": "https://localhost:8080/"
        },
        "id": "GAWaOFplqLcd",
        "outputId": "a4a45c0c-d85c-403d-fbc4-535ba40d69da"
      },
      "id": "GAWaOFplqLcd",
      "execution_count": 44,
      "outputs": [
        {
          "output_type": "stream",
          "name": "stdout",
          "text": [
            "Requirement already satisfied: datasets in /usr/local/lib/python3.10/dist-packages (2.17.1)\n",
            "Requirement already satisfied: filelock in /usr/local/lib/python3.10/dist-packages (from datasets) (3.13.1)\n",
            "Requirement already satisfied: numpy>=1.17 in /usr/local/lib/python3.10/dist-packages (from datasets) (1.25.2)\n",
            "Requirement already satisfied: pyarrow>=12.0.0 in /usr/local/lib/python3.10/dist-packages (from datasets) (14.0.2)\n",
            "Requirement already satisfied: pyarrow-hotfix in /usr/local/lib/python3.10/dist-packages (from datasets) (0.6)\n",
            "Requirement already satisfied: dill<0.3.9,>=0.3.0 in /usr/local/lib/python3.10/dist-packages (from datasets) (0.3.8)\n",
            "Requirement already satisfied: pandas in /usr/local/lib/python3.10/dist-packages (from datasets) (1.5.3)\n",
            "Requirement already satisfied: requests>=2.19.0 in /usr/local/lib/python3.10/dist-packages (from datasets) (2.31.0)\n",
            "Requirement already satisfied: tqdm>=4.62.1 in /usr/local/lib/python3.10/dist-packages (from datasets) (4.66.2)\n",
            "Requirement already satisfied: xxhash in /usr/local/lib/python3.10/dist-packages (from datasets) (3.4.1)\n",
            "Requirement already satisfied: multiprocess in /usr/local/lib/python3.10/dist-packages (from datasets) (0.70.16)\n",
            "Requirement already satisfied: fsspec[http]<=2023.10.0,>=2023.1.0 in /usr/local/lib/python3.10/dist-packages (from datasets) (2023.6.0)\n",
            "Requirement already satisfied: aiohttp in /usr/local/lib/python3.10/dist-packages (from datasets) (3.9.3)\n",
            "Requirement already satisfied: huggingface-hub>=0.19.4 in /usr/local/lib/python3.10/dist-packages (from datasets) (0.20.3)\n",
            "Requirement already satisfied: packaging in /usr/local/lib/python3.10/dist-packages (from datasets) (23.2)\n",
            "Requirement already satisfied: pyyaml>=5.1 in /usr/local/lib/python3.10/dist-packages (from datasets) (6.0.1)\n",
            "Requirement already satisfied: aiosignal>=1.1.2 in /usr/local/lib/python3.10/dist-packages (from aiohttp->datasets) (1.3.1)\n",
            "Requirement already satisfied: attrs>=17.3.0 in /usr/local/lib/python3.10/dist-packages (from aiohttp->datasets) (23.2.0)\n",
            "Requirement already satisfied: frozenlist>=1.1.1 in /usr/local/lib/python3.10/dist-packages (from aiohttp->datasets) (1.4.1)\n",
            "Requirement already satisfied: multidict<7.0,>=4.5 in /usr/local/lib/python3.10/dist-packages (from aiohttp->datasets) (6.0.5)\n",
            "Requirement already satisfied: yarl<2.0,>=1.0 in /usr/local/lib/python3.10/dist-packages (from aiohttp->datasets) (1.9.4)\n",
            "Requirement already satisfied: async-timeout<5.0,>=4.0 in /usr/local/lib/python3.10/dist-packages (from aiohttp->datasets) (4.0.3)\n",
            "Requirement already satisfied: typing-extensions>=3.7.4.3 in /usr/local/lib/python3.10/dist-packages (from huggingface-hub>=0.19.4->datasets) (4.9.0)\n",
            "Requirement already satisfied: charset-normalizer<4,>=2 in /usr/local/lib/python3.10/dist-packages (from requests>=2.19.0->datasets) (3.3.2)\n",
            "Requirement already satisfied: idna<4,>=2.5 in /usr/local/lib/python3.10/dist-packages (from requests>=2.19.0->datasets) (3.6)\n",
            "Requirement already satisfied: urllib3<3,>=1.21.1 in /usr/local/lib/python3.10/dist-packages (from requests>=2.19.0->datasets) (2.0.7)\n",
            "Requirement already satisfied: certifi>=2017.4.17 in /usr/local/lib/python3.10/dist-packages (from requests>=2.19.0->datasets) (2024.2.2)\n",
            "Requirement already satisfied: python-dateutil>=2.8.1 in /usr/local/lib/python3.10/dist-packages (from pandas->datasets) (2.8.2)\n",
            "Requirement already satisfied: pytz>=2020.1 in /usr/local/lib/python3.10/dist-packages (from pandas->datasets) (2023.4)\n",
            "Requirement already satisfied: six>=1.5 in /usr/local/lib/python3.10/dist-packages (from python-dateutil>=2.8.1->pandas->datasets) (1.16.0)\n"
          ]
        }
      ]
    },
    {
      "cell_type": "code",
      "execution_count": 45,
      "id": "b1797021",
      "metadata": {
        "id": "b1797021"
      },
      "outputs": [],
      "source": [
        "import collections\n",
        "\n",
        "import datasets\n",
        "import matplotlib.pyplot as plt\n",
        "import numpy as np\n",
        "import torch\n",
        "import torch.nn as nn\n",
        "import torch.optim as optim\n",
        "import torchtext\n",
        "import tqdm"
      ]
    },
    {
      "cell_type": "code",
      "execution_count": 46,
      "id": "0d5b5146",
      "metadata": {
        "id": "0d5b5146"
      },
      "outputs": [],
      "source": [
        "seed = 1234\n",
        "\n",
        "np.random.seed(seed)\n",
        "torch.manual_seed(seed)\n",
        "torch.cuda.manual_seed(seed)\n",
        "torch.backends.cudnn.deterministic = True"
      ]
    },
    {
      "cell_type": "code",
      "execution_count": 47,
      "id": "1f9cda19",
      "metadata": {
        "id": "1f9cda19"
      },
      "outputs": [],
      "source": [
        "train_data, test_data = datasets.load_dataset(\"imdb\", split=[\"train\", \"test\"])"
      ]
    },
    {
      "cell_type": "code",
      "source": [
        "train_data, test_data"
      ],
      "metadata": {
        "colab": {
          "base_uri": "https://localhost:8080/"
        },
        "id": "8rmFSy2Evx9d",
        "outputId": "9e8047b3-16fb-4090-b3ef-1a066456774e"
      },
      "id": "8rmFSy2Evx9d",
      "execution_count": 48,
      "outputs": [
        {
          "output_type": "execute_result",
          "data": {
            "text/plain": [
              "(Dataset({\n",
              "     features: ['text', 'label'],\n",
              "     num_rows: 25000\n",
              " }),\n",
              " Dataset({\n",
              "     features: ['text', 'label'],\n",
              "     num_rows: 25000\n",
              " }))"
            ]
          },
          "metadata": {},
          "execution_count": 48
        }
      ]
    },
    {
      "cell_type": "code",
      "execution_count": 49,
      "id": "48f4c1f6",
      "metadata": {
        "id": "48f4c1f6"
      },
      "outputs": [],
      "source": [
        "tokenizer = torchtext.data.utils.get_tokenizer(\"basic_english\")"
      ]
    },
    {
      "cell_type": "code",
      "execution_count": 50,
      "id": "ae7e60ad",
      "metadata": {
        "id": "ae7e60ad"
      },
      "outputs": [],
      "source": [
        "def tokenize_example(example, tokenizer, max_length):\n",
        "    tokens = tokenizer(example[\"text\"])[:max_length]\n",
        "    return {\"tokens\": tokens}"
      ]
    },
    {
      "cell_type": "code",
      "execution_count": 51,
      "id": "eca685b6",
      "metadata": {
        "id": "eca685b6"
      },
      "outputs": [],
      "source": [
        "max_length = 256\n",
        "\n",
        "train_data = train_data.map(\n",
        "    tokenize_example, fn_kwargs={\"tokenizer\": tokenizer, \"max_length\": max_length}\n",
        ")\n",
        "test_data = test_data.map(\n",
        "    tokenize_example, fn_kwargs={\"tokenizer\": tokenizer, \"max_length\": max_length}\n",
        ")"
      ]
    },
    {
      "cell_type": "code",
      "execution_count": 52,
      "id": "cb53b268",
      "metadata": {
        "id": "cb53b268"
      },
      "outputs": [],
      "source": [
        "test_size = 0.25\n",
        "\n",
        "train_valid_data = train_data.train_test_split(test_size=test_size)\n",
        "train_data = train_valid_data[\"train\"]\n",
        "valid_data = train_valid_data[\"test\"]"
      ]
    },
    {
      "cell_type": "code",
      "execution_count": 53,
      "id": "a7f7d1d7",
      "metadata": {
        "id": "a7f7d1d7"
      },
      "outputs": [],
      "source": [
        "min_freq = 5\n",
        "special_tokens = [\"<unk>\", \"<pad>\"]\n",
        "\n",
        "vocab = torchtext.vocab.build_vocab_from_iterator(\n",
        "    train_data[\"tokens\"],\n",
        "    min_freq=min_freq,\n",
        "    specials=special_tokens,\n",
        ")"
      ]
    },
    {
      "cell_type": "code",
      "execution_count": 54,
      "id": "d029794a",
      "metadata": {
        "id": "d029794a"
      },
      "outputs": [],
      "source": [
        "unk_index = vocab[\"<unk>\"]\n",
        "pad_index = vocab[\"<pad>\"]"
      ]
    },
    {
      "cell_type": "code",
      "execution_count": 55,
      "id": "03aa4514",
      "metadata": {
        "id": "03aa4514"
      },
      "outputs": [],
      "source": [
        "vocab.set_default_index(unk_index)"
      ]
    },
    {
      "cell_type": "code",
      "execution_count": 56,
      "id": "0133bdd3",
      "metadata": {
        "id": "0133bdd3"
      },
      "outputs": [],
      "source": [
        "def numericalize_example(example, vocab):\n",
        "    ids = vocab.lookup_indices(example[\"tokens\"])\n",
        "    return {\"ids\": ids}"
      ]
    },
    {
      "cell_type": "code",
      "execution_count": 57,
      "id": "a8deac4e",
      "metadata": {
        "id": "a8deac4e"
      },
      "outputs": [],
      "source": [
        "train_data = train_data.map(numericalize_example, fn_kwargs={\"vocab\": vocab})\n",
        "valid_data = valid_data.map(numericalize_example, fn_kwargs={\"vocab\": vocab})\n",
        "test_data = test_data.map(numericalize_example, fn_kwargs={\"vocab\": vocab})"
      ]
    },
    {
      "cell_type": "code",
      "execution_count": 58,
      "id": "29f4bd82",
      "metadata": {
        "id": "29f4bd82"
      },
      "outputs": [],
      "source": [
        "train_data = train_data.with_format(type=\"torch\", columns=[\"ids\", \"label\"])\n",
        "valid_data = valid_data.with_format(type=\"torch\", columns=[\"ids\", \"label\"])\n",
        "test_data = test_data.with_format(type=\"torch\", columns=[\"ids\", \"label\"])"
      ]
    },
    {
      "cell_type": "code",
      "execution_count": 59,
      "id": "e7325258",
      "metadata": {
        "id": "e7325258"
      },
      "outputs": [],
      "source": [
        "def get_collate_fn(pad_index):\n",
        "    def collate_fn(batch):\n",
        "        batch_ids = [i[\"ids\"] for i in batch]\n",
        "        batch_ids = nn.utils.rnn.pad_sequence(\n",
        "            batch_ids, padding_value=pad_index, batch_first=True\n",
        "        )\n",
        "        batch_label = [i[\"label\"] for i in batch]\n",
        "        batch_label = torch.stack(batch_label)\n",
        "        batch = {\"ids\": batch_ids, \"label\": batch_label}\n",
        "        return batch\n",
        "\n",
        "    return collate_fn"
      ]
    },
    {
      "cell_type": "code",
      "execution_count": 60,
      "id": "a3ba6bc6",
      "metadata": {
        "id": "a3ba6bc6"
      },
      "outputs": [],
      "source": [
        "def get_data_loader(dataset, batch_size, pad_index, shuffle=False):\n",
        "    collate_fn = get_collate_fn(pad_index)\n",
        "    data_loader = torch.utils.data.DataLoader(\n",
        "        dataset=dataset,\n",
        "        batch_size=batch_size,\n",
        "        collate_fn=collate_fn,\n",
        "        shuffle=shuffle,\n",
        "    )\n",
        "    return data_loader"
      ]
    },
    {
      "cell_type": "code",
      "execution_count": 61,
      "id": "be456751",
      "metadata": {
        "id": "be456751"
      },
      "outputs": [],
      "source": [
        "batch_size = 512\n",
        "\n",
        "train_data_loader = get_data_loader(train_data, batch_size, pad_index, shuffle=True)\n",
        "valid_data_loader = get_data_loader(valid_data, batch_size, pad_index)\n",
        "test_data_loader = get_data_loader(test_data, batch_size, pad_index)"
      ]
    },
    {
      "cell_type": "code",
      "execution_count": 62,
      "id": "65cd046f",
      "metadata": {
        "id": "65cd046f"
      },
      "outputs": [],
      "source": [
        "class CNN(nn.Module):\n",
        "    def __init__(\n",
        "        self,\n",
        "        vocab_size,\n",
        "        embedding_dim,\n",
        "        n_filters,\n",
        "        filter_sizes,\n",
        "        output_dim,\n",
        "        dropout_rate,\n",
        "        pad_index,\n",
        "    ):\n",
        "        super().__init__()\n",
        "        self.embedding = nn.Embedding(vocab_size, embedding_dim, padding_idx=pad_index)\n",
        "        self.convs = nn.ModuleList(\n",
        "            [\n",
        "                nn.Conv1d(embedding_dim, n_filters, filter_size)\n",
        "                for filter_size in filter_sizes\n",
        "            ]\n",
        "        )\n",
        "        self.fc = nn.Linear(len(filter_sizes) * n_filters, output_dim)\n",
        "        self.dropout = nn.Dropout(dropout_rate)\n",
        "\n",
        "    def forward(self, ids):\n",
        "        # ids = [batch size, seq len]\n",
        "        embedded = self.dropout(self.embedding(ids))\n",
        "        # embedded = [batch size, seq len, embedding dim]\n",
        "        embedded = embedded.permute(0, 2, 1)\n",
        "        # embedded = [batch size, embedding dim, seq len]\n",
        "        conved = [torch.relu(conv(embedded)) for conv in self.convs]\n",
        "        # conved_n = [batch size, n filters, seq len - filter_sizes[n] + 1]\n",
        "        pooled = [conv.max(dim=-1).values for conv in conved]\n",
        "        # pooled_n = [batch size, n filters]\n",
        "        cat = self.dropout(torch.cat(pooled, dim=-1))\n",
        "        # cat = [batch size, n filters * len(filter_sizes)]\n",
        "        prediction = self.fc(cat)\n",
        "        # prediction = [batch size, output dim]\n",
        "        return prediction"
      ]
    },
    {
      "cell_type": "code",
      "execution_count": 63,
      "id": "ad3da9c4",
      "metadata": {
        "id": "ad3da9c4"
      },
      "outputs": [],
      "source": [
        "vocab_size = len(vocab)\n",
        "embedding_dim = 300\n",
        "# n_filters = 100\n",
        "n_filters = 150\n",
        "# filter_sizes = [3, 5, 7]\n",
        "filter_sizes = [2, 4, 6]\n",
        "output_dim = len(train_data.unique(\"label\"))\n",
        "# dropout_rate = 0.25\n",
        "dropout_rate = 0.30\n",
        "\n",
        "model = CNN(\n",
        "    vocab_size,\n",
        "    embedding_dim,\n",
        "    n_filters,\n",
        "    filter_sizes,\n",
        "    output_dim,\n",
        "    dropout_rate,\n",
        "    pad_index,\n",
        ")"
      ]
    },
    {
      "cell_type": "code",
      "execution_count": 64,
      "id": "e5b9314c",
      "metadata": {
        "id": "e5b9314c",
        "outputId": "ad230c04-d7ba-48dd-8d70-28f81c34032a",
        "colab": {
          "base_uri": "https://localhost:8080/"
        }
      },
      "outputs": [
        {
          "output_type": "stream",
          "name": "stdout",
          "text": [
            "The model has 7,031,852 trainable parameters\n"
          ]
        }
      ],
      "source": [
        "def count_parameters(model):\n",
        "    return sum(p.numel() for p in model.parameters() if p.requires_grad)\n",
        "\n",
        "\n",
        "print(f\"The model has {count_parameters(model):,} trainable parameters\")"
      ]
    },
    {
      "cell_type": "code",
      "execution_count": 65,
      "id": "48dd9079",
      "metadata": {
        "id": "48dd9079"
      },
      "outputs": [],
      "source": [
        "def initialize_weights(m):\n",
        "    if isinstance(m, nn.Linear):\n",
        "        nn.init.xavier_normal_(m.weight)\n",
        "        nn.init.zeros_(m.bias)\n",
        "    elif isinstance(m, nn.Conv1d):\n",
        "        nn.init.kaiming_normal_(m.weight, nonlinearity=\"relu\")\n",
        "        nn.init.zeros_(m.bias)"
      ]
    },
    {
      "cell_type": "code",
      "execution_count": 66,
      "id": "e455a168",
      "metadata": {
        "id": "e455a168",
        "outputId": "8a936c9c-6e97-4c7e-9e21-0916a6ecda5c",
        "colab": {
          "base_uri": "https://localhost:8080/"
        }
      },
      "outputs": [
        {
          "output_type": "execute_result",
          "data": {
            "text/plain": [
              "CNN(\n",
              "  (embedding): Embedding(21635, 300, padding_idx=1)\n",
              "  (convs): ModuleList(\n",
              "    (0): Conv1d(300, 150, kernel_size=(2,), stride=(1,))\n",
              "    (1): Conv1d(300, 150, kernel_size=(4,), stride=(1,))\n",
              "    (2): Conv1d(300, 150, kernel_size=(6,), stride=(1,))\n",
              "  )\n",
              "  (fc): Linear(in_features=450, out_features=2, bias=True)\n",
              "  (dropout): Dropout(p=0.3, inplace=False)\n",
              ")"
            ]
          },
          "metadata": {},
          "execution_count": 66
        }
      ],
      "source": [
        "model.apply(initialize_weights)"
      ]
    },
    {
      "cell_type": "code",
      "execution_count": 24,
      "id": "cca8ce6b",
      "metadata": {
        "id": "cca8ce6b",
        "colab": {
          "base_uri": "https://localhost:8080/"
        },
        "outputId": "09aa7640-b894-4077-dfec-95515ad63faa"
      },
      "outputs": [
        {
          "output_type": "stream",
          "name": "stderr",
          "text": [
            ".vector_cache/glove.840B.300d.zip: 2.18GB [06:49, 5.31MB/s]                            \n",
            "100%|█████████▉| 2196016/2196017 [04:49<00:00, 7583.24it/s]\n"
          ]
        }
      ],
      "source": [
        "vectors = torchtext.vocab.GloVe()"
      ]
    },
    {
      "cell_type": "code",
      "execution_count": 87,
      "id": "e8f96c10",
      "metadata": {
        "id": "e8f96c10"
      },
      "outputs": [],
      "source": [
        "pretrained_embedding = vectors.get_vecs_by_tokens(vocab.get_itos())"
      ]
    },
    {
      "cell_type": "code",
      "execution_count": 88,
      "id": "bb09a2aa",
      "metadata": {
        "id": "bb09a2aa"
      },
      "outputs": [],
      "source": [
        "model.embedding.weight.data = pretrained_embedding"
      ]
    },
    {
      "cell_type": "code",
      "execution_count": 89,
      "id": "7a5e39e9",
      "metadata": {
        "id": "7a5e39e9"
      },
      "outputs": [],
      "source": [
        "optimizer = torch.optim.Adam(model.parameters())"
      ]
    },
    {
      "cell_type": "code",
      "execution_count": 90,
      "id": "e123ae07",
      "metadata": {
        "id": "e123ae07"
      },
      "outputs": [],
      "source": [
        "criterion = nn.CrossEntropyLoss()"
      ]
    },
    {
      "cell_type": "code",
      "execution_count": 91,
      "id": "825a973d",
      "metadata": {
        "id": "825a973d",
        "colab": {
          "base_uri": "https://localhost:8080/"
        },
        "outputId": "6bd7786c-fae8-40c8-db8d-c0de282d1789"
      },
      "outputs": [
        {
          "output_type": "execute_result",
          "data": {
            "text/plain": [
              "device(type='cuda')"
            ]
          },
          "metadata": {},
          "execution_count": 91
        }
      ],
      "source": [
        "device = torch.device(\"cuda\" if torch.cuda.is_available() else \"cpu\")\n",
        "\n",
        "device"
      ]
    },
    {
      "cell_type": "code",
      "execution_count": 92,
      "id": "f9512ae1",
      "metadata": {
        "id": "f9512ae1"
      },
      "outputs": [],
      "source": [
        "model = model.to(device)\n",
        "criterion = criterion.to(device)"
      ]
    },
    {
      "cell_type": "code",
      "execution_count": 93,
      "id": "c3651ca7",
      "metadata": {
        "id": "c3651ca7"
      },
      "outputs": [],
      "source": [
        "def train(data_loader, model, criterion, optimizer, device):\n",
        "    model.train()\n",
        "    epoch_losses = []\n",
        "    epoch_accs = []\n",
        "    for batch in tqdm.tqdm(data_loader, desc=\"training...\"):\n",
        "        ids = batch[\"ids\"].to(device)\n",
        "        label = batch[\"label\"].to(device)\n",
        "        prediction = model(ids)\n",
        "        loss = criterion(prediction, label)\n",
        "        accuracy = get_accuracy(prediction, label)\n",
        "        optimizer.zero_grad()\n",
        "        loss.backward()\n",
        "        optimizer.step()\n",
        "        epoch_losses.append(loss.item())\n",
        "        epoch_accs.append(accuracy.item())\n",
        "    return np.mean(epoch_losses), np.mean(epoch_accs)"
      ]
    },
    {
      "cell_type": "code",
      "execution_count": 94,
      "id": "f2a96019",
      "metadata": {
        "id": "f2a96019"
      },
      "outputs": [],
      "source": [
        "def evaluate(data_loader, model, criterion, device):\n",
        "    model.eval()\n",
        "    epoch_losses = []\n",
        "    epoch_accs = []\n",
        "    with torch.no_grad():\n",
        "        for batch in tqdm.tqdm(data_loader, desc=\"evaluating...\"):\n",
        "            ids = batch[\"ids\"].to(device)\n",
        "            label = batch[\"label\"].to(device)\n",
        "            prediction = model(ids)\n",
        "            loss = criterion(prediction, label)\n",
        "            accuracy = get_accuracy(prediction, label)\n",
        "            epoch_losses.append(loss.item())\n",
        "            epoch_accs.append(accuracy.item())\n",
        "    return np.mean(epoch_losses), np.mean(epoch_accs)"
      ]
    },
    {
      "cell_type": "code",
      "execution_count": 95,
      "id": "3cf2f1e1",
      "metadata": {
        "id": "3cf2f1e1"
      },
      "outputs": [],
      "source": [
        "def get_accuracy(prediction, label):\n",
        "    batch_size, _ = prediction.shape\n",
        "    predicted_classes = prediction.argmax(dim=-1)\n",
        "    correct_predictions = predicted_classes.eq(label).sum()\n",
        "    accuracy = correct_predictions / batch_size\n",
        "    return accuracy"
      ]
    },
    {
      "cell_type": "code",
      "execution_count": 98,
      "id": "af6e8a15",
      "metadata": {
        "id": "af6e8a15",
        "colab": {
          "base_uri": "https://localhost:8080/"
        },
        "outputId": "77afcae0-1e2c-4ced-a91f-d21c33568857"
      },
      "outputs": [
        {
          "output_type": "stream",
          "name": "stderr",
          "text": [
            "training...: 100%|██████████| 37/37 [00:07<00:00,  5.27it/s]\n",
            "evaluating...: 100%|██████████| 13/13 [00:00<00:00, 20.97it/s]\n"
          ]
        },
        {
          "output_type": "stream",
          "name": "stdout",
          "text": [
            "epoch: 0\n",
            "train_loss: 0.106, train_acc: 0.964\n",
            "valid_loss: 0.280, valid_acc: 0.897\n"
          ]
        },
        {
          "output_type": "stream",
          "name": "stderr",
          "text": [
            "training...: 100%|██████████| 37/37 [00:07<00:00,  5.23it/s]\n",
            "evaluating...: 100%|██████████| 13/13 [00:00<00:00, 20.71it/s]\n"
          ]
        },
        {
          "output_type": "stream",
          "name": "stdout",
          "text": [
            "epoch: 1\n",
            "train_loss: 0.086, train_acc: 0.972\n",
            "valid_loss: 0.294, valid_acc: 0.894\n"
          ]
        },
        {
          "output_type": "stream",
          "name": "stderr",
          "text": [
            "training...: 100%|██████████| 37/37 [00:07<00:00,  5.23it/s]\n",
            "evaluating...: 100%|██████████| 13/13 [00:00<00:00, 17.17it/s]\n"
          ]
        },
        {
          "output_type": "stream",
          "name": "stdout",
          "text": [
            "epoch: 2\n",
            "train_loss: 0.074, train_acc: 0.977\n",
            "valid_loss: 0.299, valid_acc: 0.894\n"
          ]
        },
        {
          "output_type": "stream",
          "name": "stderr",
          "text": [
            "training...: 100%|██████████| 37/37 [00:07<00:00,  5.17it/s]\n",
            "evaluating...: 100%|██████████| 13/13 [00:00<00:00, 20.51it/s]\n"
          ]
        },
        {
          "output_type": "stream",
          "name": "stdout",
          "text": [
            "epoch: 3\n",
            "train_loss: 0.059, train_acc: 0.983\n",
            "valid_loss: 0.304, valid_acc: 0.894\n"
          ]
        },
        {
          "output_type": "stream",
          "name": "stderr",
          "text": [
            "training...: 100%|██████████| 37/37 [00:07<00:00,  5.11it/s]\n",
            "evaluating...: 100%|██████████| 13/13 [00:00<00:00, 20.57it/s]\n"
          ]
        },
        {
          "output_type": "stream",
          "name": "stdout",
          "text": [
            "epoch: 4\n",
            "train_loss: 0.049, train_acc: 0.986\n",
            "valid_loss: 0.318, valid_acc: 0.892\n"
          ]
        },
        {
          "output_type": "stream",
          "name": "stderr",
          "text": [
            "training...: 100%|██████████| 37/37 [00:07<00:00,  5.10it/s]\n",
            "evaluating...: 100%|██████████| 13/13 [00:00<00:00, 17.99it/s]\n"
          ]
        },
        {
          "output_type": "stream",
          "name": "stdout",
          "text": [
            "epoch: 5\n",
            "train_loss: 0.041, train_acc: 0.988\n",
            "valid_loss: 0.323, valid_acc: 0.894\n"
          ]
        },
        {
          "output_type": "stream",
          "name": "stderr",
          "text": [
            "training...: 100%|██████████| 37/37 [00:07<00:00,  5.13it/s]\n",
            "evaluating...: 100%|██████████| 13/13 [00:00<00:00, 21.11it/s]\n"
          ]
        },
        {
          "output_type": "stream",
          "name": "stdout",
          "text": [
            "epoch: 6\n",
            "train_loss: 0.034, train_acc: 0.991\n",
            "valid_loss: 0.334, valid_acc: 0.896\n"
          ]
        },
        {
          "output_type": "stream",
          "name": "stderr",
          "text": [
            "training...: 100%|██████████| 37/37 [00:07<00:00,  5.25it/s]\n",
            "evaluating...: 100%|██████████| 13/13 [00:00<00:00, 20.74it/s]\n"
          ]
        },
        {
          "output_type": "stream",
          "name": "stdout",
          "text": [
            "epoch: 7\n",
            "train_loss: 0.029, train_acc: 0.992\n",
            "valid_loss: 0.341, valid_acc: 0.896\n"
          ]
        },
        {
          "output_type": "stream",
          "name": "stderr",
          "text": [
            "training...: 100%|██████████| 37/37 [00:06<00:00,  5.34it/s]\n",
            "evaluating...: 100%|██████████| 13/13 [00:00<00:00, 21.22it/s]\n"
          ]
        },
        {
          "output_type": "stream",
          "name": "stdout",
          "text": [
            "epoch: 8\n",
            "train_loss: 0.024, train_acc: 0.994\n",
            "valid_loss: 0.354, valid_acc: 0.895\n"
          ]
        },
        {
          "output_type": "stream",
          "name": "stderr",
          "text": [
            "training...: 100%|██████████| 37/37 [00:07<00:00,  5.18it/s]\n",
            "evaluating...: 100%|██████████| 13/13 [00:00<00:00, 15.57it/s]"
          ]
        },
        {
          "output_type": "stream",
          "name": "stdout",
          "text": [
            "epoch: 9\n",
            "train_loss: 0.021, train_acc: 0.995\n",
            "valid_loss: 0.364, valid_acc: 0.895\n"
          ]
        },
        {
          "output_type": "stream",
          "name": "stderr",
          "text": [
            "\n"
          ]
        }
      ],
      "source": [
        "n_epochs = 10\n",
        "best_valid_loss = float(\"inf\")\n",
        "\n",
        "metrics = collections.defaultdict(list)\n",
        "\n",
        "for epoch in range(n_epochs):\n",
        "    train_loss, train_acc = train(\n",
        "        train_data_loader, model, criterion, optimizer, device\n",
        "    )\n",
        "    valid_loss, valid_acc = evaluate(valid_data_loader, model, criterion, device)\n",
        "    metrics[\"train_losses\"].append(train_loss)\n",
        "    metrics[\"train_accs\"].append(train_acc)\n",
        "    metrics[\"valid_losses\"].append(valid_loss)\n",
        "    metrics[\"valid_accs\"].append(valid_acc)\n",
        "    if valid_loss < best_valid_loss:\n",
        "        best_valid_loss = valid_loss\n",
        "        torch.save(model.state_dict(), \"cnn.pt\")\n",
        "    print(f\"epoch: {epoch}\")\n",
        "    print(f\"train_loss: {train_loss:.3f}, train_acc: {train_acc:.3f}\")\n",
        "    print(f\"valid_loss: {valid_loss:.3f}, valid_acc: {valid_acc:.3f}\")"
      ]
    },
    {
      "cell_type": "code",
      "source": [
        "fig = plt.figure(figsize=(10, 6))\n",
        "ax = fig.add_subplot(1, 1, 1)\n",
        "ax.plot(metrics[\"train_losses\"], label=\"train loss\")\n",
        "ax.plot(metrics[\"valid_losses\"], label=\"valid loss\")\n",
        "ax.set_xlabel(\"epoch\")\n",
        "ax.set_ylabel(\"loss\")\n",
        "ax.set_xticks(range(n_epochs))\n",
        "ax.legend()\n",
        "ax.grid()"
      ],
      "metadata": {
        "colab": {
          "base_uri": "https://localhost:8080/",
          "height": 511
        },
        "id": "DOCiGms1a-Ay",
        "outputId": "d7cb3855-86e4-4f82-b225-d2c9828616fd"
      },
      "id": "DOCiGms1a-Ay",
      "execution_count": 99,
      "outputs": [
        {
          "output_type": "display_data",
          "data": {
            "text/plain": [
              "<Figure size 1000x600 with 1 Axes>"
            ],
            "image/png": "[encoded data removed]"
          },
          "metadata": {}
        }
      ]
    },
    {
      "cell_type": "code",
      "source": [
        "fig = plt.figure(figsize=(10, 6))\n",
        "ax = fig.add_subplot(1, 1, 1)\n",
        "ax.plot(metrics[\"train_accs\"], label=\"train accuracy\")\n",
        "ax.plot(metrics[\"valid_accs\"], label=\"valid accuracy\")\n",
        "ax.set_xlabel(\"epoch\")\n",
        "ax.set_ylabel(\"loss\")\n",
        "ax.set_xticks(range(n_epochs))\n",
        "ax.legend()\n",
        "ax.grid()"
      ],
      "metadata": {
        "colab": {
          "base_uri": "https://localhost:8080/",
          "height": 516
        },
        "id": "RR0fkZSwbCOE",
        "outputId": "81340f9c-0b9c-4b5c-ab3c-387a4c57532a"
      },
      "id": "RR0fkZSwbCOE",
      "execution_count": 100,
      "outputs": [
        {
          "output_type": "display_data",
          "data": {
            "text/plain": [
              "<Figure size 1000x600 with 1 Axes>"
            ],
            "image/png": "[encoded data removed]"
          },
          "metadata": {}
        }
      ]
    },
    {
      "cell_type": "code",
      "source": [
        "\n",
        "model.load_state_dict(torch.load(\"cnn.pt\"))\n",
        "\n",
        "test_loss, test_acc = evaluate(test_data_loader, model, criterion, device)"
      ],
      "metadata": {
        "colab": {
          "base_uri": "https://localhost:8080/"
        },
        "id": "Ma62Nhp6bEbH",
        "outputId": "9f80d724-64ff-4d3a-ea56-14881437a8a5"
      },
      "id": "Ma62Nhp6bEbH",
      "execution_count": 101,
      "outputs": [
        {
          "output_type": "stream",
          "name": "stderr",
          "text": [
            "evaluating...: 100%|██████████| 49/49 [00:02<00:00, 19.42it/s]\n"
          ]
        }
      ]
    },
    {
      "cell_type": "code",
      "source": [
        "print(f\"test_loss: {test_loss:.3f}, test_acc: {test_acc:.3f}\")"
      ],
      "metadata": {
        "colab": {
          "base_uri": "https://localhost:8080/"
        },
        "id": "fH7BdW5KbH3s",
        "outputId": "dc7fc496-8d72-4967-cd50-341044240fd6"
      },
      "id": "fH7BdW5KbH3s",
      "execution_count": 102,
      "outputs": [
        {
          "output_type": "stream",
          "name": "stdout",
          "text": [
            "test_loss: 0.301, test_acc: 0.880\n"
          ]
        }
      ]
    },
    {
      "cell_type": "code",
      "source": [
        "def predict_sentiment(text, model, tokenizer, vocab, device, min_length, pad_index):\n",
        "    tokens = tokenizer(text)\n",
        "    ids = vocab.lookup_indices(tokens)\n",
        "    if len(ids) < min_length:\n",
        "        ids += [pad_index] * (min_length - len(ids))\n",
        "    tensor = torch.LongTensor(ids).unsqueeze(dim=0).to(device)\n",
        "    prediction = model(tensor).squeeze(dim=0)\n",
        "    probability = torch.softmax(prediction, dim=-1)\n",
        "    predicted_class = prediction.argmax(dim=-1).item()\n",
        "    predicted_probability = probability[predicted_class].item()\n",
        "    return predicted_class, predicted_probability"
      ],
      "metadata": {
        "id": "pluVISWrbKyx"
      },
      "id": "pluVISWrbKyx",
      "execution_count": 103,
      "outputs": []
    },
    {
      "cell_type": "code",
      "source": [
        "text = \"This film is terrible!\"\n",
        "min_length = max(filter_sizes)\n",
        "\n",
        "predict_sentiment(text, model, tokenizer, vocab, device, min_length, pad_index)"
      ],
      "metadata": {
        "colab": {
          "base_uri": "https://localhost:8080/"
        },
        "id": "Qt7H0nwEbNZu",
        "outputId": "9b667d1a-3bec-4800-a961-970cb3b2c2bb"
      },
      "id": "Qt7H0nwEbNZu",
      "execution_count": 104,
      "outputs": [
        {
          "output_type": "execute_result",
          "data": {
            "text/plain": [
              "(0, 0.9555160403251648)"
            ]
          },
          "metadata": {},
          "execution_count": 104
        }
      ]
    },
    {
      "cell_type": "code",
      "source": [
        "text = \"This film is great!\"\n",
        "\n",
        "predict_sentiment(text, model, tokenizer, vocab, device, min_length, pad_index)"
      ],
      "metadata": {
        "colab": {
          "base_uri": "https://localhost:8080/"
        },
        "id": "tY_pskXjbQOv",
        "outputId": "b4be2aef-156a-4ca3-9b86-2d62f4651c51"
      },
      "id": "tY_pskXjbQOv",
      "execution_count": 105,
      "outputs": [
        {
          "output_type": "execute_result",
          "data": {
            "text/plain": [
              "(1, 0.9718195199966431)"
            ]
          },
          "metadata": {},
          "execution_count": 105
        }
      ]
    },
    {
      "cell_type": "code",
      "source": [
        "text = \"This film is not terrible, it's great!\"\n",
        "\n",
        "predict_sentiment(text, model, tokenizer, vocab, device, min_length, pad_index)"
      ],
      "metadata": {
        "colab": {
          "base_uri": "https://localhost:8080/"
        },
        "id": "rgiTx74bbSmG",
        "outputId": "edc55b7d-c6cf-4ab3-a5cb-97afa24f3459"
      },
      "id": "rgiTx74bbSmG",
      "execution_count": 106,
      "outputs": [
        {
          "output_type": "execute_result",
          "data": {
            "text/plain": [
              "(0, 0.6897583603858948)"
            ]
          },
          "metadata": {},
          "execution_count": 106
        }
      ]
    },
    {
      "cell_type": "code",
      "source": [
        "text = \"This film is not great, it's terrible!\"\n",
        "\n",
        "predict_sentiment(text, model, tokenizer, vocab, device, min_length, pad_index)"
      ],
      "metadata": {
        "colab": {
          "base_uri": "https://localhost:8080/"
        },
        "id": "DS-84ah4aP-P",
        "outputId": "aaf5426c-12c4-4696-ba0b-5a06ee8a83e7"
      },
      "id": "DS-84ah4aP-P",
      "execution_count": 107,
      "outputs": [
        {
          "output_type": "execute_result",
          "data": {
            "text/plain": [
              "(1, 0.6117761135101318)"
            ]
          },
          "metadata": {},
          "execution_count": 107
        }
      ]
    },
    {
      "cell_type": "code",
      "source": [
        "import matplotlib.pyplot as plt\n",
        "\n",
        "# Test results before hyperparameter tuning\n",
        "test_loss_before = 0.300\n",
        "test_acc_before = 0.876\n",
        "\n",
        "# Test results after hyperparameter tuning\n",
        "test_loss_after = 0.301\n",
        "test_acc_after = 0.880\n",
        "\n",
        "# Plotting\n",
        "labels = ['Before Tuning', 'After Tuning']\n",
        "loss_values = [test_loss_before, test_loss_after]\n",
        "acc_values = [test_acc_before, test_acc_after]\n",
        "\n",
        "# Plot Test Loss\n",
        "plt.figure(figsize=(10, 6))\n",
        "plt.subplot(1, 2, 1)\n",
        "bars = plt.bar(labels, loss_values, color=['blue', 'orange'])\n",
        "plt.title('Test Loss')\n",
        "plt.ylabel('Loss')\n",
        "\n",
        "# Adding values on top of the bars\n",
        "for bar, value in zip(bars, loss_values):\n",
        "    plt.text(bar.get_x() + bar.get_width() / 2 - 0.05, bar.get_height() + 0.01, f'{value:.3f}', ha='center', color='black')\n",
        "\n",
        "# Plot Test Accuracy\n",
        "plt.subplot(1, 2, 2)\n",
        "bars = plt.bar(labels, acc_values, color=['blue', 'orange'])\n",
        "plt.title('Test Accuracy')\n",
        "plt.ylabel('Accuracy')\n",
        "\n",
        "# Adding values on top of the bars\n",
        "for bar, value in zip(bars, acc_values):\n",
        "    plt.text(bar.get_x() + bar.get_width() / 2 - 0.05, bar.get_height() + 0.01, f'{value:.3f}', ha='center', color='black')\n",
        "\n",
        "plt.show()\n"
      ],
      "metadata": {
        "colab": {
          "base_uri": "https://localhost:8080/",
          "height": 514
        },
        "id": "ViS3Q9I6b31p",
        "outputId": "3c544cdf-fa2a-4317-af0e-fccfec9609af"
      },
      "id": "ViS3Q9I6b31p",
      "execution_count": 109,
      "outputs": [
        {
          "output_type": "display_data",
          "data": {
            "text/plain": [
              "<Figure size 1000x600 with 2 Axes>"
            ],
            "image/png": "[encoded data removed]"
          },
          "metadata": {}
        }
      ]
    },
    {
      "cell_type": "code",
      "source": [],
      "metadata": {
        "id": "OWXWc1zNc11b"
      },
      "id": "OWXWc1zNc11b",
      "execution_count": null,
      "outputs": []
    }
  ],
  "metadata": {
    "kernelspec": {
      "display_name": "Python 3",
      "name": "python3"
    },
    "language_info": {
      "codemirror_mode": {
        "name": "ipython",
        "version": 3
      },
      "file_extension": ".py",
      "mimetype": "text/x-python",
      "name": "python",
      "nbconvert_exporter": "python",
      "pygments_lexer": "ipython3",
      "version": "3.9.12"
    },
    "colab": {
      "provenance": [],
      "gpuType": "T4",
      "include_colab_link": true
    },
    "accelerator": "GPU"
  },
  "nbformat": 4,
  "nbformat_minor": 5
}