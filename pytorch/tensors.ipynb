{
  "nbformat": 4,
  "nbformat_minor": 0,
  "metadata": {
    "colab": {
      "provenance": [],
      "authorship_tag": "ABX9TyPHEqE5lAokbSa3QL7av6YY",
      "include_colab_link": true
    },
    "kernelspec": {
      "name": "python3",
      "display_name": "Python 3"
    },
    "language_info": {
      "name": "python"
    },
    "accelerator": "TPU"
  },
  "cells": [
    {
      "cell_type": "markdown",
      "metadata": {
        "id": "view-in-github",
        "colab_type": "text"
      },
      "source": [
        "<a href=\"https://colab.research.google.com/github/vivekbiragoni/Deep_Learning/blob/main/pytorch/tensors.ipynb\" target=\"_parent\"><img src=\"https://colab.research.google.com/assets/colab-badge.svg\" alt=\"Open In Colab\"/></a>"
      ]
    },
    {
      "cell_type": "markdown",
      "source": [
        "# Tensors"
      ],
      "metadata": {
        "id": "RU2Jp-SFipL5"
      }
    },
    {
      "cell_type": "code",
      "execution_count": 1,
      "metadata": {
        "id": "XFkcYBZHcZAA"
      },
      "outputs": [],
      "source": [
        "# packages\n",
        "import torch\n",
        "import numpy as np\n",
        "import seaborn as sns\n"
      ]
    },
    {
      "cell_type": "code",
      "source": [
        "# create a tensor\n",
        "x = torch.tensor(5.5)"
      ],
      "metadata": {
        "id": "xsniW1vIf0ws"
      },
      "execution_count": 2,
      "outputs": []
    },
    {
      "cell_type": "code",
      "source": [
        "# simple calc\n",
        "y = x + 10\n",
        "print(y)"
      ],
      "metadata": {
        "colab": {
          "base_uri": "https://localhost:8080/"
        },
        "id": "pe128W9Qf8gE",
        "outputId": "e7c831cf-4913-42e0-ecd9-11ffe966ea2d"
      },
      "execution_count": 3,
      "outputs": [
        {
          "output_type": "stream",
          "name": "stdout",
          "text": [
            "tensor(15.5000)\n"
          ]
        }
      ]
    },
    {
      "cell_type": "code",
      "source": [
        "print(x.requires_grad)"
      ],
      "metadata": {
        "colab": {
          "base_uri": "https://localhost:8080/"
        },
        "id": "U63SvWSNgC0j",
        "outputId": "3bda94fa-e338-4fd5-b23a-3479f944ac98"
      },
      "execution_count": 5,
      "outputs": [
        {
          "output_type": "stream",
          "name": "stdout",
          "text": [
            "False\n"
          ]
        }
      ]
    },
    {
      "cell_type": "code",
      "source": [
        "x = torch.tensor(2.0, requires_grad=True)\n",
        "print(x.requires_grad)"
      ],
      "metadata": {
        "colab": {
          "base_uri": "https://localhost:8080/"
        },
        "id": "wn2IPzK4gP5x",
        "outputId": "48f683e2-9585-4433-aee6-114cb3dc3b9a"
      },
      "execution_count": 6,
      "outputs": [
        {
          "output_type": "stream",
          "name": "stdout",
          "text": [
            "True\n"
          ]
        }
      ]
    },
    {
      "cell_type": "code",
      "source": [
        "#\n",
        "def y_function(val):\n",
        "  return (val-3)*(val-6)*(val-4)\n",
        "\n",
        "x_range = np.linspace(0, 10, 101)\n",
        "y_range = [y_function(i) for i in x_range]\n",
        "sns.lineplot(x=x_range, y = y_range)"
      ],
      "metadata": {
        "colab": {
          "base_uri": "https://localhost:8080/",
          "height": 448
        },
        "id": "qEzr8MFegdFC",
        "outputId": "0cd93956-ceb5-4c02-9665-1dd778b483ca"
      },
      "execution_count": 7,
      "outputs": [
        {
          "output_type": "execute_result",
          "data": {
            "text/plain": [
              "<Axes: >"
            ]
          },
          "metadata": {},
          "execution_count": 7
        },
        {
          "output_type": "display_data",
          "data": {
            "text/plain": [
              "<Figure size 640x480 with 1 Axes>"
            ],
            "image/png": "[encoded data removed]"
          },
          "metadata": {}
        }
      ]
    },
    {
      "cell_type": "code",
      "source": [
        "y = (x-3) * (x-6)*(x-4)\n",
        "y.backward()\n"
      ],
      "metadata": {
        "id": "IQhQifxahC7G"
      },
      "execution_count": 8,
      "outputs": []
    },
    {
      "cell_type": "code",
      "source": [
        "print(x.grad)"
      ],
      "metadata": {
        "colab": {
          "base_uri": "https://localhost:8080/"
        },
        "id": "vb6_7_pfhQo5",
        "outputId": "ab1d3cc6-a3fc-47c8-de10-f161b630ac0a"
      },
      "execution_count": 9,
      "outputs": [
        {
          "output_type": "stream",
          "name": "stdout",
          "text": [
            "tensor(14.)\n"
          ]
        }
      ]
    },
    {
      "cell_type": "code",
      "source": [
        "# second ex\n",
        "x = torch.tensor(1.0, requires_grad = True)\n",
        "y = x**3\n",
        "z = 5 *x-4\n",
        "z.backward()\n"
      ],
      "metadata": {
        "id": "Vmr6pxY6hSrX"
      },
      "execution_count": 10,
      "outputs": []
    },
    {
      "cell_type": "code",
      "source": [
        "print(x.grad)"
      ],
      "metadata": {
        "colab": {
          "base_uri": "https://localhost:8080/"
        },
        "id": "NV3VCXmZhu9k",
        "outputId": "0d531ade-5659-423f-c52f-40ab73695426"
      },
      "execution_count": 11,
      "outputs": [
        {
          "output_type": "stream",
          "name": "stdout",
          "text": [
            "tensor(5.)\n"
          ]
        }
      ]
    },
    {
      "cell_type": "code",
      "source": [
        "# more complex examples\n",
        "x11 = torch.tensor(2.0, requires_grad=True)\n",
        "x21 = torch.tensor(3.0, requires_grad=True)\n",
        "x12 = 5 * x11 - 3 * x21\n",
        "x22 = 2 * x11 + 2 * x21\n",
        "y = 4 * x12 + 3 * x21\n",
        "y.backward()\n",
        "print(x11.grad)\n",
        "print(x21.grad)"
      ],
      "metadata": {
        "colab": {
          "base_uri": "https://localhost:8080/"
        },
        "id": "x5g9AomAhx_j",
        "outputId": "3dfdd38e-2c2c-451a-f819-d1e21fe878e3"
      },
      "execution_count": 12,
      "outputs": [
        {
          "output_type": "stream",
          "name": "stdout",
          "text": [
            "tensor(20.)\n",
            "tensor(-9.)\n"
          ]
        }
      ]
    },
    {
      "cell_type": "code",
      "source": [],
      "metadata": {
        "id": "WzkzqZKYiZEi"
      },
      "execution_count": null,
      "outputs": []
    }
  ]
}